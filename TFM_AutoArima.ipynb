{
 "cells": [
  {
   "cell_type": "code",
   "execution_count": 1,
   "metadata": {},
   "outputs": [],
   "source": [
    "#Importa librerías necesarias\n",
    "import pandas as pd\n",
    "import matplotlib.pyplot as plt\n",
    "import numpy as np\n",
    "import yfinance as yf\n",
    "from sklearn.metrics import mean_squared_error, mean_absolute_error\n",
    "from pmdarima import auto_arima\n",
    "import pickle  \n",
    "\n"
   ]
  },
  {
   "cell_type": "markdown",
   "metadata": {},
   "source": [
    "DATA COLLECTION"
   ]
  },
  {
   "cell_type": "markdown",
   "metadata": {},
   "source": [
    "Datos de Yahoo Finance"
   ]
  },
  {
   "cell_type": "code",
   "execution_count": 2,
   "metadata": {},
   "outputs": [],
   "source": [
    "sp500 = yf.Ticker(\"^GSPC\")\n",
    "gold = yf.Ticker(\"^GC=F\")\n",
    "oil= yf.Ticker(\"CL=F\")\n",
    "brent= yf.Ticker(\"BZ=F\")"
   ]
  },
  {
   "cell_type": "markdown",
   "metadata": {},
   "source": [
    "Para el Sp500 utilizo los datos a partir del año 2000, ya que en años anteriores la composición por industria del SP500 era bastante diferente. A partir de ese año hay importnate participación del sector teconología. Hago lo mismo para las otras variables"
   ]
  },
  {
   "cell_type": "code",
   "execution_count": 3,
   "metadata": {},
   "outputs": [],
   "source": [
    "start_date = '2000-01-01'\n",
    "end_date = '2024-04-26'\n",
    "\n",
    "sp500 = sp500.history(period=\"max\")\n",
    "sp500 =sp500.loc[start_date:end_date].copy ()\n",
    "oil = oil.history(period=\"max\")\n",
    "oil = oil.loc[start_date:end_date].copy ()\n",
    "brent = brent.history(period=\"max\") \n",
    "brent = brent.loc[start_date:end_date:].copy ()\n"
   ]
  },
  {
   "cell_type": "code",
   "execution_count": 4,
   "metadata": {},
   "outputs": [
    {
     "data": {
      "text/html": [
       "<div>\n",
       "<style scoped>\n",
       "    .dataframe tbody tr th:only-of-type {\n",
       "        vertical-align: middle;\n",
       "    }\n",
       "\n",
       "    .dataframe tbody tr th {\n",
       "        vertical-align: top;\n",
       "    }\n",
       "\n",
       "    .dataframe thead th {\n",
       "        text-align: right;\n",
       "    }\n",
       "</style>\n",
       "<table border=\"1\" class=\"dataframe\">\n",
       "  <thead>\n",
       "    <tr style=\"text-align: right;\">\n",
       "      <th></th>\n",
       "      <th>Open</th>\n",
       "      <th>High</th>\n",
       "      <th>Low</th>\n",
       "      <th>Close</th>\n",
       "      <th>Volume</th>\n",
       "      <th>Dividends</th>\n",
       "      <th>Stock Splits</th>\n",
       "    </tr>\n",
       "    <tr>\n",
       "      <th>Date</th>\n",
       "      <th></th>\n",
       "      <th></th>\n",
       "      <th></th>\n",
       "      <th></th>\n",
       "      <th></th>\n",
       "      <th></th>\n",
       "      <th></th>\n",
       "    </tr>\n",
       "  </thead>\n",
       "  <tbody>\n",
       "    <tr>\n",
       "      <th>2000-01-03 00:00:00-05:00</th>\n",
       "      <td>1469.250000</td>\n",
       "      <td>1478.000000</td>\n",
       "      <td>1438.359985</td>\n",
       "      <td>1455.219971</td>\n",
       "      <td>931800000</td>\n",
       "      <td>0.0</td>\n",
       "      <td>0.0</td>\n",
       "    </tr>\n",
       "    <tr>\n",
       "      <th>2000-01-04 00:00:00-05:00</th>\n",
       "      <td>1455.219971</td>\n",
       "      <td>1455.219971</td>\n",
       "      <td>1397.430054</td>\n",
       "      <td>1399.420044</td>\n",
       "      <td>1009000000</td>\n",
       "      <td>0.0</td>\n",
       "      <td>0.0</td>\n",
       "    </tr>\n",
       "    <tr>\n",
       "      <th>2000-01-05 00:00:00-05:00</th>\n",
       "      <td>1399.420044</td>\n",
       "      <td>1413.270020</td>\n",
       "      <td>1377.680054</td>\n",
       "      <td>1402.109985</td>\n",
       "      <td>1085500000</td>\n",
       "      <td>0.0</td>\n",
       "      <td>0.0</td>\n",
       "    </tr>\n",
       "    <tr>\n",
       "      <th>2000-01-06 00:00:00-05:00</th>\n",
       "      <td>1402.109985</td>\n",
       "      <td>1411.900024</td>\n",
       "      <td>1392.099976</td>\n",
       "      <td>1403.449951</td>\n",
       "      <td>1092300000</td>\n",
       "      <td>0.0</td>\n",
       "      <td>0.0</td>\n",
       "    </tr>\n",
       "    <tr>\n",
       "      <th>2000-01-07 00:00:00-05:00</th>\n",
       "      <td>1403.449951</td>\n",
       "      <td>1441.469971</td>\n",
       "      <td>1400.729980</td>\n",
       "      <td>1441.469971</td>\n",
       "      <td>1225200000</td>\n",
       "      <td>0.0</td>\n",
       "      <td>0.0</td>\n",
       "    </tr>\n",
       "  </tbody>\n",
       "</table>\n",
       "</div>"
      ],
      "text/plain": [
       "                                  Open         High          Low        Close  \\\n",
       "Date                                                                            \n",
       "2000-01-03 00:00:00-05:00  1469.250000  1478.000000  1438.359985  1455.219971   \n",
       "2000-01-04 00:00:00-05:00  1455.219971  1455.219971  1397.430054  1399.420044   \n",
       "2000-01-05 00:00:00-05:00  1399.420044  1413.270020  1377.680054  1402.109985   \n",
       "2000-01-06 00:00:00-05:00  1402.109985  1411.900024  1392.099976  1403.449951   \n",
       "2000-01-07 00:00:00-05:00  1403.449951  1441.469971  1400.729980  1441.469971   \n",
       "\n",
       "                               Volume  Dividends  Stock Splits  \n",
       "Date                                                            \n",
       "2000-01-03 00:00:00-05:00   931800000        0.0           0.0  \n",
       "2000-01-04 00:00:00-05:00  1009000000        0.0           0.0  \n",
       "2000-01-05 00:00:00-05:00  1085500000        0.0           0.0  \n",
       "2000-01-06 00:00:00-05:00  1092300000        0.0           0.0  \n",
       "2000-01-07 00:00:00-05:00  1225200000        0.0           0.0  "
      ]
     },
     "execution_count": 4,
     "metadata": {},
     "output_type": "execute_result"
    }
   ],
   "source": [
    "sp500.head()"
   ]
  },
  {
   "cell_type": "code",
   "execution_count": 5,
   "metadata": {},
   "outputs": [],
   "source": [
    "sp500 = sp500.drop(columns=['Dividends', 'Stock Splits'])\n",
    "sp500.index= sp500.index.tz_localize(None) # remove timezone"
   ]
  },
  {
   "cell_type": "code",
   "execution_count": 6,
   "metadata": {},
   "outputs": [],
   "source": [
    "#Guardar el dataset en un archivo csv   \n",
    "sp500.to_csv('sp500.csv', index=True)"
   ]
  },
  {
   "cell_type": "code",
   "execution_count": 7,
   "metadata": {},
   "outputs": [
    {
     "data": {
      "text/html": [
       "<div>\n",
       "<style scoped>\n",
       "    .dataframe tbody tr th:only-of-type {\n",
       "        vertical-align: middle;\n",
       "    }\n",
       "\n",
       "    .dataframe tbody tr th {\n",
       "        vertical-align: top;\n",
       "    }\n",
       "\n",
       "    .dataframe thead th {\n",
       "        text-align: right;\n",
       "    }\n",
       "</style>\n",
       "<table border=\"1\" class=\"dataframe\">\n",
       "  <thead>\n",
       "    <tr style=\"text-align: right;\">\n",
       "      <th></th>\n",
       "      <th>Close</th>\n",
       "    </tr>\n",
       "    <tr>\n",
       "      <th>Date</th>\n",
       "      <th></th>\n",
       "    </tr>\n",
       "  </thead>\n",
       "  <tbody>\n",
       "    <tr>\n",
       "      <th>2000-08-23</th>\n",
       "      <td>32.049999</td>\n",
       "    </tr>\n",
       "    <tr>\n",
       "      <th>2000-08-24</th>\n",
       "      <td>31.629999</td>\n",
       "    </tr>\n",
       "    <tr>\n",
       "      <th>2000-08-25</th>\n",
       "      <td>32.049999</td>\n",
       "    </tr>\n",
       "    <tr>\n",
       "      <th>2000-08-28</th>\n",
       "      <td>32.869999</td>\n",
       "    </tr>\n",
       "    <tr>\n",
       "      <th>2000-08-29</th>\n",
       "      <td>32.720001</td>\n",
       "    </tr>\n",
       "  </tbody>\n",
       "</table>\n",
       "</div>"
      ],
      "text/plain": [
       "                Close\n",
       "Date                 \n",
       "2000-08-23  32.049999\n",
       "2000-08-24  31.629999\n",
       "2000-08-25  32.049999\n",
       "2000-08-28  32.869999\n",
       "2000-08-29  32.720001"
      ]
     },
     "execution_count": 7,
     "metadata": {},
     "output_type": "execute_result"
    }
   ],
   "source": [
    "#Hago lo mismo con el resto de los activos\n",
    "oil = oil.drop(columns=['Dividends', 'Stock Splits', 'Open', 'High', 'Low', 'Volume'])\n",
    "oil.index= oil.index.tz_localize(None) # remove timezone\n",
    "oil.head()"
   ]
  },
  {
   "cell_type": "code",
   "execution_count": 8,
   "metadata": {},
   "outputs": [
    {
     "name": "stdout",
     "output_type": "stream",
     "text": [
      "            Close_oil\n",
      "Date                 \n",
      "2000-08-23  32.049999\n",
      "2000-08-24  31.629999\n",
      "2000-08-25  32.049999\n",
      "2000-08-28  32.869999\n",
      "2000-08-29  32.720001\n"
     ]
    }
   ],
   "source": [
    "# Renombo la columna 'Close' a 'Close_oil' en el DataFrame 'oil' para que no se confunda con la del S&P 500\n",
    "oil.rename(columns={'Close': 'Close_oil'}, inplace=True)\n",
    "\n",
    "# Muestra las primeras filas para verificar el cambio\n",
    "print(oil.head())\n"
   ]
  },
  {
   "cell_type": "code",
   "execution_count": 9,
   "metadata": {},
   "outputs": [],
   "source": [
    "# Asumiendo que 'df' es tu DataFrame y 'oil' es la columna con los datos de precios de petróleo\n",
    "oil['oil_daily_changes'] = oil['Close_oil'].pct_change() * 100  # Multiplicar por 100 para convertir a porcentaje\n"
   ]
  },
  {
   "cell_type": "markdown",
   "metadata": {},
   "source": [
    "Datos de FRED (Banco de la Reserva Federal de St. Louis)"
   ]
  },
  {
   "cell_type": "code",
   "execution_count": 10,
   "metadata": {},
   "outputs": [],
   "source": [
    "import requests\n",
    "\n",
    "\n",
    "# FRED API endpoint\n",
    "url = \"https://api.stlouisfed.org/fred/series/observations\"\n",
    "\n",
    "# List of series IDs to be downloaded\n",
    "# CREDIT RISK AND RISK APPETITE VARIABLES # OJO --->>>> Estas variables miden el riesgo de crédito y el apetito por el riesgo de los inversores \n",
    "\n",
    "# DAAA = Moody's Seasoned Aaa Corporate Bond Yield\n",
    "# AAA10Y = Moody's Seasoned Aaa Corporate Bond Yield Relative to Yield on 10-Year Treasury Constant Maturity\n",
    "# DBAA = Moody's Seasoned Baa Corporate Bond Yield\n",
    "# BAA10Y = Moody's Seasoned Baa Corporate Bond Yield Relative to Yield on 10-Year Treasury Constant Maturity\n",
    "# BAMLH0A0HYM2 = ICE BofA US High Yield Index Option-Adjusted Spread \n",
    "# BAMLH0A2HYB = ICE BofA Single-B US High Yield Index Option-Adjusted Spread \n",
    "# BAMLH0A3HYC = ICE BofA CCC & Lower US High Yield Index Option-Adjusted Spread\n",
    "# BAMLHE00EHYIOAS = ICE BofA Euro High Yield Index Option-Adjusted Spread -  \n",
    "\n",
    "# INTEREST RATE VARIABLES\n",
    "#OJO --->>>> Esta variables miden el cambio en las expectativas de inflación y los movimientos de tasas de interés\n",
    "\n",
    "# T10Y2Y = 10-Year Treasury Constant Maturity Minus 2-Year Treasury Constant Maturity\n",
    "# T10Y3M = 10-Year Treasury Constant Maturity Minus 3-Month Treasury Constant Maturity  \n",
    "# T5YIE = 5-Year Breakeven Inflation Rate (Expected Inflation Rate) - 5-Year \n",
    "\n",
    "# EXCHANGE RATES Vs main commercial partners for the U.S.\n",
    "# DEXUSEU = U.S. Dollars to Euro Spot Exchange Rate - value of one U.S. Dollar in Euros\n",
    "# DEXCHUS = Chinese Yuan Renminbi to U.S. Dollar Spot Exchange Rate - value of one Chinese Yuan Renminbi in U.S. Dollars\n",
    "# DEXCAUS = Canadian Dollars to U.S. Dollar Spot Exchange Rate - value of one Canadian Dollar in U.S. Dollars\n",
    "# DEXMXUS= Mexican Pesos to U.S. Dollar Spot Exchange Rate - value of one Mexican Peso in U.S. Dollars\n",
    "\n",
    "# VOLATILITY INDECES (MARKET EXPECTATION OF NEAR TERM VOLATILITY)\n",
    "# VIXCLS = CBOE Volatility Index - VIX measures market expectation of near term volatility conveyed by stock index option prices.\n",
    "#(GVZCLS)= CBOE Gold ETF Volatility Index \n",
    "\n",
    "series_ids = ['DAAA','AAA10Y','DBAA','BAA10Y','BAMLH0A0HYM2','BAMLH0A2HYB','BAMLH0A3HYC','BAMLHE00EHYIOAS','T10Y2Y','T10Y3M','T5YIE','DEXUSEU','DEXCHUS','DEXCAUS','DEXMXUS','VIXCLS','GVZCLS']\n",
    "\n",
    "# Your FRED API key\n",
    "api_key = '7de04d83472c6affd4e0a1505211d3b9'\n",
    "\n",
    "# Initialize an empty dictionary to store DataFrames\n",
    "dfs = {}\n",
    "\n",
    "# Loop through each series ID\n",
    "for series_id in series_ids:\n",
    "    # API parameters\n",
    "    params = {\n",
    "        'series_id': series_id,\n",
    "        'api_key': api_key,\n",
    "        'file_type': 'json',\n",
    "    }\n",
    "    \n",
    "    # Make the API request\n",
    "    response = requests.get(url, params=params)\n",
    "    \n",
    "    # Check if the request was successful\n",
    "    if response.status_code == 200:\n",
    "        # Convert the response to JSON\n",
    "        data = response.json()\n",
    "        # Extract data for DataFrame\n",
    "        dates = [item['date'] for item in data['observations']]\n",
    "        values = [item['value'] for item in data['observations']]\n",
    "        # Create DataFrame and convert types\n",
    "        temp_df = pd.DataFrame({'Date': dates, series_id: values})\n",
    "        temp_df['Date'] = pd.to_datetime(temp_df['Date'])\n",
    "        temp_df[series_id] = pd.to_numeric(temp_df[series_id], errors='coerce')\n",
    "        # Add the DataFrame to the dictionary\n",
    "        dfs[series_id] = temp_df.set_index('Date')\n",
    "    else:\n",
    "        print(f\"Failed to retrieve data for {series_id}: {response.status_code}\")\n",
    "\n",
    "# Combine all the series DataFrames into one DataFrame \n",
    "macroeconomic_df = pd.concat(dfs.values(), axis=1)\n",
    "\n",
    "\n"
   ]
  },
  {
   "cell_type": "code",
   "execution_count": 11,
   "metadata": {},
   "outputs": [],
   "source": [
    "#Sacar los cambios diarios de las variables macroeconomicas\n",
    "changes_daily = macroeconomic_df.diff()\n",
    "\n",
    "# Renombrar las columnas para indicar que representan cambios diarios\n",
    "changes_daily.columns = [f\"{col}_daily_change\" for col in macroeconomic_df.columns]\n",
    "\n",
    "# Concatenar los cambios diarios de vuelta al DataFrame original\n",
    "macroeconomic_df = pd.concat([macroeconomic_df, changes_daily], axis=1)"
   ]
  },
  {
   "cell_type": "code",
   "execution_count": 12,
   "metadata": {},
   "outputs": [
    {
     "name": "stdout",
     "output_type": "stream",
     "text": [
      "Conteo de valores nulos por columna antes de limpiar:\n",
      " DAAA                             3625\n",
      "AAA10Y                           3674\n",
      "DBAA                             4384\n",
      "BAA10Y                           4421\n",
      "BAMLH0A0HYM2                     6870\n",
      "BAMLH0A2HYB                      6870\n",
      "BAMLH0A3HYC                      6870\n",
      "BAMLHE00EHYIOAS                  7127\n",
      "T10Y2Y                           2028\n",
      "T10Y3M                           3419\n",
      "T5YIE                            8667\n",
      "DEXUSEU                          7652\n",
      "DEXCHUS                          3191\n",
      "DEXCAUS                           625\n",
      "DEXMXUS                          6363\n",
      "VIXCLS                           5344\n",
      "GVZCLS                           9997\n",
      "DAAA_daily_change                4101\n",
      "AAA10Y_daily_change              4198\n",
      "DBAA_daily_change                4836\n",
      "BAA10Y_daily_change              4909\n",
      "BAMLH0A0HYM2_daily_change        6958\n",
      "BAMLH0A2HYB_daily_change         6958\n",
      "BAMLH0A3HYC_daily_change         6958\n",
      "BAMLHE00EHYIOAS_daily_change     7208\n",
      "T10Y2Y_daily_change              2625\n",
      "T10Y3M_daily_change              3949\n",
      "T5YIE_daily_change               8952\n",
      "DEXUSEU_daily_change             7975\n",
      "DEXCHUS_daily_change             3725\n",
      "DEXCAUS_daily_change             1230\n",
      "DEXMXUS_daily_change             6747\n",
      "VIXCLS_daily_change              5709\n",
      "GVZCLS_daily_change             10184\n",
      "dtype: int64\n",
      "Conteo de valores nulos por columna después de limpiar:\n",
      " DAAA                            0\n",
      "AAA10Y                          0\n",
      "DBAA                            0\n",
      "BAA10Y                          0\n",
      "BAMLH0A0HYM2                    0\n",
      "BAMLH0A2HYB                     0\n",
      "BAMLH0A3HYC                     0\n",
      "BAMLHE00EHYIOAS                 0\n",
      "T10Y2Y                          0\n",
      "T10Y3M                          0\n",
      "T5YIE                           0\n",
      "DEXUSEU                         0\n",
      "DEXCHUS                         0\n",
      "DEXCAUS                         0\n",
      "DEXMXUS                         0\n",
      "VIXCLS                          0\n",
      "GVZCLS                          0\n",
      "DAAA_daily_change               0\n",
      "AAA10Y_daily_change             0\n",
      "DBAA_daily_change               0\n",
      "BAA10Y_daily_change             0\n",
      "BAMLH0A0HYM2_daily_change       0\n",
      "BAMLH0A2HYB_daily_change        0\n",
      "BAMLH0A3HYC_daily_change        0\n",
      "BAMLHE00EHYIOAS_daily_change    0\n",
      "T10Y2Y_daily_change             0\n",
      "T10Y3M_daily_change             0\n",
      "T5YIE_daily_change              0\n",
      "DEXUSEU_daily_change            0\n",
      "DEXCHUS_daily_change            0\n",
      "DEXCAUS_daily_change            0\n",
      "DEXMXUS_daily_change            0\n",
      "VIXCLS_daily_change             0\n",
      "GVZCLS_daily_change             0\n",
      "dtype: int64\n"
     ]
    }
   ],
   "source": [
    "# Contar los valores nulos en cada columna\n",
    "null_counts_macro = macroeconomic_df.isnull().sum()\n",
    "print(\"Conteo de valores nulos por columna antes de limpiar:\\n\", null_counts_macro)\n",
    "\n",
    "# Eliminar las filas con valores nulos o NaN\n",
    "macroeconomic_df_clean = macroeconomic_df.dropna()\n",
    "\n",
    "# Contar de nuevo los valores nulos en cada columna\n",
    "null_counts_clean = macroeconomic_df_clean.isnull().sum()\n",
    "print(\"Conteo de valores nulos por columna después de limpiar:\\n\", null_counts_clean)\n",
    "\n",
    "# Guardar el DataFrame limpio a un archivo CSV\n",
    "macroeconomic_df_clean.to_csv(\"macroeconomic_df_clean.csv\")\n"
   ]
  },
  {
   "cell_type": "code",
   "execution_count": 13,
   "metadata": {},
   "outputs": [
    {
     "name": "stdout",
     "output_type": "stream",
     "text": [
      "DatetimeIndex(['2008-06-04', '2008-06-05', '2008-06-06', '2008-06-09',\n",
      "               '2008-06-10', '2008-06-11', '2008-06-12', '2008-06-13',\n",
      "               '2008-06-16', '2008-06-17',\n",
      "               ...\n",
      "               '2024-04-15', '2024-04-16', '2024-04-17', '2024-04-18',\n",
      "               '2024-04-19', '2024-04-22', '2024-04-23', '2024-04-24',\n",
      "               '2024-04-25', '2024-04-26'],\n",
      "              dtype='datetime64[ns]', name='Date', length=3732, freq=None)\n"
     ]
    }
   ],
   "source": [
    "# Unir macroeconomic_df con sp500 basado en sus índices de fecha\n",
    "AllVar_df =sp500.join(macroeconomic_df_clean, how='inner')\n",
    "\n",
    "print(AllVar_df.index)\n",
    "AllVar_df = AllVar_df.sort_index()"
   ]
  },
  {
   "cell_type": "code",
   "execution_count": 14,
   "metadata": {},
   "outputs": [
    {
     "name": "stdout",
     "output_type": "stream",
     "text": [
      "                   Open         High          Low        Close      Volume  \\\n",
      "Date                                                                         \n",
      "2008-06-04  1376.260010  1388.180054  1371.739990  1377.199951  4338640000   \n",
      "2008-06-05  1377.479980  1404.050049  1377.479980  1404.050049  4350790000   \n",
      "2008-06-06  1400.060059  1400.060059  1359.900024  1360.680054  4771660000   \n",
      "2008-06-09  1360.829956  1370.630005  1350.619995  1361.760010  4404570000   \n",
      "2008-06-10  1358.979980  1366.839966  1351.560059  1358.439941  4635070000   \n",
      "\n",
      "            DAAA  AAA10Y  DBAA  BAA10Y  BAMLH0A0HYM2  ...  \\\n",
      "Date                                                  ...   \n",
      "2008-06-04  5.64    1.66  7.02    3.04          6.79  ...   \n",
      "2008-06-05  5.69    1.63  7.07    3.01          6.63  ...   \n",
      "2008-06-06  5.61    1.67  6.98    3.04          6.68  ...   \n",
      "2008-06-09  5.58    1.56  6.96    2.94          6.58  ...   \n",
      "2008-06-10  5.66    1.55  7.05    2.94          6.49  ...   \n",
      "\n",
      "            T10Y3M_daily_change  T5YIE_daily_change  DEXUSEU_daily_change  \\\n",
      "Date                                                                        \n",
      "2008-06-04                 0.07               -0.04               -0.0001   \n",
      "2008-06-05                 0.07                0.05                0.0107   \n",
      "2008-06-06                -0.12                0.08                0.0171   \n",
      "2008-06-09                 0.04                0.03               -0.0013   \n",
      "2008-06-10                -0.04                0.00               -0.0245   \n",
      "\n",
      "            DEXCHUS_daily_change  DEXCAUS_daily_change  DEXMXUS_daily_change  \\\n",
      "Date                                                                           \n",
      "2008-06-04                0.0292                0.0094                 0.030   \n",
      "2008-06-05               -0.0173                0.0050                -0.008   \n",
      "2008-06-06               -0.0230               -0.0008                 0.056   \n",
      "2008-06-09                0.0000                0.0036                -0.004   \n",
      "2008-06-10                0.0018                0.0018                 0.024   \n",
      "\n",
      "            VIXCLS_daily_change  GVZCLS_daily_change   Close_oil  \\\n",
      "Date                                                               \n",
      "2008-06-04                 0.56                -0.20  122.300003   \n",
      "2008-06-05                -2.17                 0.09  127.790001   \n",
      "2008-06-06                 4.93                 0.82  138.539993   \n",
      "2008-06-09                -0.44                 0.87  134.350006   \n",
      "2008-06-10                 0.06                 0.92  131.309998   \n",
      "\n",
      "            oil_daily_changes  \n",
      "Date                           \n",
      "2008-06-04          -1.616921  \n",
      "2008-06-05           4.488960  \n",
      "2008-06-06           8.412233  \n",
      "2008-06-09          -3.024388  \n",
      "2008-06-10          -2.262753  \n",
      "\n",
      "[5 rows x 41 columns]\n"
     ]
    }
   ],
   "source": [
    "# Unir el DataFrame 'oil' al 'AllVar_df' que ya contiene datos combinados de 'macroeconomic_df' y 'sp500'\n",
    "# Asegúrate de que 'oil' está indexado adecuadamente, si es necesario\n",
    "if 'Date' in oil.columns:\n",
    "    oil.set_index('Date', inplace=True)\n",
    "\n",
    "# Especificando sufijos para resolver el conflicto de nombres de columnas\n",
    "AllVar_df = AllVar_df.join(oil, how='inner', lsuffix='_AllVar', rsuffix='_oil')\n",
    "\n",
    "# Mostrar las primeras filas para verificar las nuevas columnas\n",
    "print(AllVar_df.head())"
   ]
  },
  {
   "cell_type": "markdown",
   "metadata": {},
   "source": [
    "AUTOARIMA"
   ]
  },
  {
   "cell_type": "code",
   "execution_count": 15,
   "metadata": {},
   "outputs": [
    {
     "name": "stdout",
     "output_type": "stream",
     "text": [
      "Los datos comienzan el: 2008-06-04 00:00:00\n",
      "Los datos terminan el: 2024-04-26 00:00:00\n"
     ]
    }
   ],
   "source": [
    "start_date_All = AllVar_df.index.min()\n",
    "end_date_All = AllVar_df.index.max()\n",
    "print(f\"Los datos comienzan el: {start_date_All}\")\n",
    "print(f\"Los datos terminan el: {end_date_All}\")"
   ]
  },
  {
   "cell_type": "code",
   "execution_count": 16,
   "metadata": {},
   "outputs": [],
   "source": [
    "fecha_inicio = '2014-04-30'\n",
    "test_size_Control=0.2"
   ]
  },
  {
   "cell_type": "code",
   "execution_count": 17,
   "metadata": {},
   "outputs": [
    {
     "data": {
      "text/plain": [
       "<Axes: xlabel='Date'>"
      ]
     },
     "execution_count": 17,
     "metadata": {},
     "output_type": "execute_result"
    },
    {
     "data": {
      "image/png": "[encoded data removed]",
      "text/plain": [
       "<Figure size 640x480 with 1 Axes>"
      ]
     },
     "metadata": {},
     "output_type": "display_data"
    }
   ],
   "source": [
    "#Se eliminan las columnas que no se van a utilizar\n",
    "# Crear un nuevo DataFrame seleccionando solo las columnas 'Date' y 'Close'\n",
    "sp500_ARIMA = sp500.iloc[:, [3]]\n",
    "sp500_ARIMA.plot(y=\"Close\", use_index=True)"
   ]
  },
  {
   "cell_type": "code",
   "execution_count": 18,
   "metadata": {},
   "outputs": [
    {
     "data": {
      "text/html": [
       "<div>\n",
       "<style scoped>\n",
       "    .dataframe tbody tr th:only-of-type {\n",
       "        vertical-align: middle;\n",
       "    }\n",
       "\n",
       "    .dataframe tbody tr th {\n",
       "        vertical-align: top;\n",
       "    }\n",
       "\n",
       "    .dataframe thead th {\n",
       "        text-align: right;\n",
       "    }\n",
       "</style>\n",
       "<table border=\"1\" class=\"dataframe\">\n",
       "  <thead>\n",
       "    <tr style=\"text-align: right;\">\n",
       "      <th></th>\n",
       "      <th>Close</th>\n",
       "    </tr>\n",
       "    <tr>\n",
       "      <th>Date</th>\n",
       "      <th></th>\n",
       "    </tr>\n",
       "  </thead>\n",
       "  <tbody>\n",
       "    <tr>\n",
       "      <th>2014-04-30</th>\n",
       "      <td>1883.949951</td>\n",
       "    </tr>\n",
       "    <tr>\n",
       "      <th>2014-05-01</th>\n",
       "      <td>1883.680054</td>\n",
       "    </tr>\n",
       "    <tr>\n",
       "      <th>2014-05-02</th>\n",
       "      <td>1881.140015</td>\n",
       "    </tr>\n",
       "    <tr>\n",
       "      <th>2014-05-05</th>\n",
       "      <td>1884.660034</td>\n",
       "    </tr>\n",
       "    <tr>\n",
       "      <th>2014-05-06</th>\n",
       "      <td>1867.719971</td>\n",
       "    </tr>\n",
       "  </tbody>\n",
       "</table>\n",
       "</div>"
      ],
      "text/plain": [
       "                  Close\n",
       "Date                   \n",
       "2014-04-30  1883.949951\n",
       "2014-05-01  1883.680054\n",
       "2014-05-02  1881.140015\n",
       "2014-05-05  1884.660034\n",
       "2014-05-06  1867.719971"
      ]
     },
     "execution_count": 18,
     "metadata": {},
     "output_type": "execute_result"
    }
   ],
   "source": [
    "sp500_ARIMA = sp500_ARIMA.loc[fecha_inicio:]#ya que al juntar todos los datos para SARIMAX que implemento luego empiezan en esa fecha\n",
    "sp500_ARIMA.head()"
   ]
  },
  {
   "cell_type": "code",
   "execution_count": 19,
   "metadata": {},
   "outputs": [
    {
     "name": "stdout",
     "output_type": "stream",
     "text": [
      "Close    0\n",
      "dtype: int64\n"
     ]
    }
   ],
   "source": [
    "#Verificar si hay valores nulos\n",
    "missing_values = sp500_ARIMA.isnull().sum()\n",
    "print(missing_values)"
   ]
  },
  {
   "cell_type": "code",
   "execution_count": 20,
   "metadata": {},
   "outputs": [],
   "source": [
    "#Guardar el dataset en un archivo csv   \n",
    "sp500_ARIMA.to_csv('sp500_yahoo2000.csv', index=True)"
   ]
  },
  {
   "cell_type": "code",
   "execution_count": 21,
   "metadata": {},
   "outputs": [],
   "source": [
    "# Se convierte el índice a tipo datetime\n",
    "sp500_ARIMA.index = pd.to_datetime(sp500_ARIMA.index)\n",
    "# Asegurar que el índice esté en formato de fecha y ordenado\n",
    "sp500_ARIMA.sort_index(inplace=True)\n"
   ]
  },
  {
   "cell_type": "code",
   "execution_count": 22,
   "metadata": {},
   "outputs": [],
   "source": [
    "# Preparación de los datos\n",
    "train_size_arima1 = int(len(sp500_ARIMA) * (1-test_size_Control))\n",
    "train_arima1, test_arima1 = sp500_ARIMA['Close'][:train_size_arima1], sp500_ARIMA['Close'][train_size_arima1:]\n"
   ]
  },
  {
   "cell_type": "code",
   "execution_count": 23,
   "metadata": {},
   "outputs": [
    {
     "name": "stdout",
     "output_type": "stream",
     "text": [
      "Performing stepwise search to minimize aic\n",
      " ARIMA(2,1,2)(0,0,0)[0] intercept   : AIC=19520.315, Time=0.93 sec\n",
      " ARIMA(0,1,0)(0,0,0)[0] intercept   : AIC=19659.310, Time=0.02 sec\n",
      " ARIMA(1,1,0)(0,0,0)[0] intercept   : AIC=19623.572, Time=0.04 sec\n",
      " ARIMA(0,1,1)(0,0,0)[0] intercept   : AIC=19628.412, Time=0.14 sec\n",
      " ARIMA(0,1,0)(0,0,0)[0]             : AIC=19660.121, Time=0.01 sec\n",
      " ARIMA(1,1,2)(0,0,0)[0] intercept   : AIC=19617.672, Time=0.37 sec\n",
      " ARIMA(2,1,1)(0,0,0)[0] intercept   : AIC=19618.720, Time=0.19 sec\n",
      " ARIMA(3,1,2)(0,0,0)[0] intercept   : AIC=19618.572, Time=1.23 sec\n",
      " ARIMA(2,1,3)(0,0,0)[0] intercept   : AIC=19618.609, Time=1.09 sec\n",
      " ARIMA(1,1,1)(0,0,0)[0] intercept   : AIC=19619.833, Time=0.29 sec\n",
      " ARIMA(1,1,3)(0,0,0)[0] intercept   : AIC=19617.485, Time=0.72 sec\n",
      " ARIMA(3,1,1)(0,0,0)[0] intercept   : AIC=19568.962, Time=0.87 sec\n",
      " ARIMA(3,1,3)(0,0,0)[0] intercept   : AIC=19523.818, Time=1.71 sec\n",
      " ARIMA(2,1,2)(0,0,0)[0]             : AIC=19521.703, Time=0.49 sec\n",
      "\n",
      "Best model:  ARIMA(2,1,2)(0,0,0)[0] intercept\n",
      "Total fit time: 8.135 seconds\n",
      "Mejor modelo ARIMA1 guardado:\n",
      "                               SARIMAX Results                                \n",
      "==============================================================================\n",
      "Dep. Variable:                      y   No. Observations:                 2012\n",
      "Model:               SARIMAX(2, 1, 2)   Log Likelihood               -9754.158\n",
      "Date:                Tue, 07 May 2024   AIC                          19520.315\n",
      "Time:                        20:37:36   BIC                          19553.954\n",
      "Sample:                             0   HQIC                         19532.663\n",
      "                               - 2012                                         \n",
      "Covariance Type:                  opg                                         \n",
      "==============================================================================\n",
      "                 coef    std err          z      P>|z|      [0.025      0.975]\n",
      "------------------------------------------------------------------------------\n",
      "intercept      4.5112      2.505      1.801      0.072      -0.399       9.421\n",
      "ar.L1         -1.7469      0.014   -123.044      0.000      -1.775      -1.719\n",
      "ar.L2         -0.8894      0.013    -67.097      0.000      -0.915      -0.863\n",
      "ma.L1          1.6530      0.019     88.848      0.000       1.617       1.689\n",
      "ma.L2          0.7707      0.017     44.060      0.000       0.736       0.805\n",
      "sigma2       956.1129     14.288     66.919      0.000     928.110     984.116\n",
      "===================================================================================\n",
      "Ljung-Box (L1) (Q):                   0.35   Jarque-Bera (JB):              7598.82\n",
      "Prob(Q):                              0.55   Prob(JB):                         0.00\n",
      "Heteroskedasticity (H):               6.71   Skew:                            -1.06\n",
      "Prob(H) (two-sided):                  0.00   Kurtosis:                        12.29\n",
      "===================================================================================\n",
      "\n",
      "Warnings:\n",
      "[1] Covariance matrix calculated using the outer product of gradients (complex-step).\n"
     ]
    }
   ],
   "source": [
    "# Ajustar el modelo AutoARIMA\n",
    "model_arima1 = auto_arima(train_arima1, seasonal=False, trace=True,\n",
    "                                  error_action='ignore', suppress_warnings=True,\n",
    "                                  stepwise=True)\n",
    "\n",
    "# Guardar el modelo\n",
    "pickle.dump(model_arima1, open('ARIMA1_Close_best_model.pkl', 'wb'))\n",
    "print(\"Mejor modelo ARIMA1 guardado:\")\n",
    "print(model_arima1.summary())\n"
   ]
  },
  {
   "cell_type": "code",
   "execution_count": 24,
   "metadata": {},
   "outputs": [
    {
     "name": "stderr",
     "output_type": "stream",
     "text": [
      "c:\\Users\\lgarn\\AppData\\Local\\Programs\\Python\\Python312\\Lib\\site-packages\\statsmodels\\tsa\\base\\tsa_model.py:836: ValueWarning: No supported index is available. Prediction results will be given with an integer index beginning at `start`.\n",
      "  return get_prediction_index(\n",
      "c:\\Users\\lgarn\\AppData\\Local\\Programs\\Python\\Python312\\Lib\\site-packages\\statsmodels\\tsa\\base\\tsa_model.py:836: FutureWarning: No supported index is available. In the next version, calling this method in a model without a supported index will result in an exception.\n",
      "  return get_prediction_index(\n"
     ]
    }
   ],
   "source": [
    "# Predicciones: asumimos que test_arima1 es el conjunto de datos para validar el modelo\n",
    "n_periods = len(test_arima1)\n",
    "predicted_values_arima1 = model_arima1.predict(n_periods=n_periods)\n",
    "predicted_values_array_arima1 = np.array(predicted_values_arima1)"
   ]
  },
  {
   "cell_type": "code",
   "execution_count": 25,
   "metadata": {},
   "outputs": [],
   "source": [
    "# Crear y guardar DataFrame con resultados\n",
    "test_df_arima1 = pd.DataFrame({\n",
    "    'Fecha_ARIMA1': pd.to_datetime(sp500_ARIMA.index[train_size_arima1:]),\n",
    "    'Valor_Real_ARIMA1': test_arima1,\n",
    "    'Prediccion_ARIMA1': predicted_values_array_arima1\n",
    "})\n",
    "#test_df_arima1.to_csv('ARIMA1_test_vs_predicciones.csv', index=False)\n",
    "\n",
    "# Opcional: guardar solo los valores reales para comparar posteriormente\n",
    "#valores_reales_df_arima1 = test_df_arima1[['Fecha_ARIMA1', 'Valor_Real_ARIMA1']]\n",
    "#valores_reales_df_arima1.to_csv('ARIMA1_valores_reales_test.csv', index=False)\n",
    "\n",
    "#Usar f-strings para formatear el nombre del archivo incluyendo las variables\n",
    "nombre_archivo_completo = f'ARIMA1_test_vs_predicciones_{fecha_inicio}_testsize{test_size_Control}.csv'\n",
    "test_df_arima1.to_csv(nombre_archivo_completo, index=False)"
   ]
  },
  {
   "cell_type": "code",
   "execution_count": 26,
   "metadata": {},
   "outputs": [
    {
     "name": "stdout",
     "output_type": "stream",
     "text": [
      "ARIMA1 Test - MSE: 177180.57751195124, RMSE: 420.9282332084072, MAE: 374.15201808721434\n"
     ]
    }
   ],
   "source": [
    "# Evaluar el rendimiento del modelo en el conjunto de prueba\n",
    "mse_test_arima1 = mean_squared_error(test_arima1, predicted_values_array_arima1)\n",
    "rmse_test_arima1 = np.sqrt(mse_test_arima1)\n",
    "mae_test_arima1 = mean_absolute_error(test_arima1, predicted_values_array_arima1)\n",
    "\n",
    "print(f'ARIMA1 Test - MSE: {mse_test_arima1}, RMSE: {rmse_test_arima1}, MAE: {mae_test_arima1}')"
   ]
  },
  {
   "cell_type": "code",
   "execution_count": 27,
   "metadata": {},
   "outputs": [
    {
     "data": {
      "image/png": "[encoded data removed]",
      "text/plain": [
       "<Figure size 1000x600 with 1 Axes>"
      ]
     },
     "metadata": {},
     "output_type": "display_data"
    }
   ],
   "source": [
    "# Graficar los resultados\n",
    "plt.figure(figsize=(10, 6))\n",
    "plt.plot(test_df_arima1['Fecha_ARIMA1'], test_df_arima1['Valor_Real_ARIMA1'], label='Datos Reales', marker='.', color='blue')\n",
    "plt.plot(test_df_arima1['Fecha_ARIMA1'], test_df_arima1['Prediccion_ARIMA1'], label='Predicciones', marker='x', linestyle='--', color='red')\n",
    "plt.title('Comparación de Datos Reales y Predicciones ARIMA1')\n",
    "plt.xlabel('Fecha')\n",
    "plt.ylabel('Valor de Cierre')\n",
    "plt.legend()\n",
    "plt.show()"
   ]
  },
  {
   "cell_type": "markdown",
   "metadata": {},
   "source": [
    "Intentamos correr un SARIMAX, a ver si las vriables exogenas agregan poder de prediccion"
   ]
  },
  {
   "cell_type": "code",
   "execution_count": 28,
   "metadata": {},
   "outputs": [
    {
     "name": "stdout",
     "output_type": "stream",
     "text": [
      "Conteo de valores nulos por columna:\n",
      " Open                            0\n",
      "High                            0\n",
      "Low                             0\n",
      "Close                           0\n",
      "Volume                          0\n",
      "DAAA                            0\n",
      "AAA10Y                          0\n",
      "DBAA                            0\n",
      "BAA10Y                          0\n",
      "BAMLH0A0HYM2                    0\n",
      "BAMLH0A2HYB                     0\n",
      "BAMLH0A3HYC                     0\n",
      "BAMLHE00EHYIOAS                 0\n",
      "T10Y2Y                          0\n",
      "T10Y3M                          0\n",
      "T5YIE                           0\n",
      "DEXUSEU                         0\n",
      "DEXCHUS                         0\n",
      "DEXCAUS                         0\n",
      "DEXMXUS                         0\n",
      "VIXCLS                          0\n",
      "GVZCLS                          0\n",
      "DAAA_daily_change               0\n",
      "AAA10Y_daily_change             0\n",
      "DBAA_daily_change               0\n",
      "BAA10Y_daily_change             0\n",
      "BAMLH0A0HYM2_daily_change       0\n",
      "BAMLH0A2HYB_daily_change        0\n",
      "BAMLH0A3HYC_daily_change        0\n",
      "BAMLHE00EHYIOAS_daily_change    0\n",
      "T10Y2Y_daily_change             0\n",
      "T10Y3M_daily_change             0\n",
      "T5YIE_daily_change              0\n",
      "DEXUSEU_daily_change            0\n",
      "DEXCHUS_daily_change            0\n",
      "DEXCAUS_daily_change            0\n",
      "DEXMXUS_daily_change            0\n",
      "VIXCLS_daily_change             0\n",
      "GVZCLS_daily_change             0\n",
      "Close_oil                       0\n",
      "oil_daily_changes               0\n",
      "dtype: int64\n"
     ]
    }
   ],
   "source": [
    "null_counts = AllVar_df.isnull().sum()\n",
    "print(\"Conteo de valores nulos por columna:\\n\", null_counts)\n",
    "\n"
   ]
  },
  {
   "cell_type": "code",
   "execution_count": 29,
   "metadata": {},
   "outputs": [
    {
     "name": "stdout",
     "output_type": "stream",
     "text": [
      "Nombres de columnas en AllVar_df: ['Open', 'High', 'Low', 'Close', 'Volume', 'DAAA', 'AAA10Y', 'DBAA', 'BAA10Y', 'BAMLH0A0HYM2', 'BAMLH0A2HYB', 'BAMLH0A3HYC', 'BAMLHE00EHYIOAS', 'T10Y2Y', 'T10Y3M', 'T5YIE', 'DEXUSEU', 'DEXCHUS', 'DEXCAUS', 'DEXMXUS', 'VIXCLS', 'GVZCLS', 'DAAA_daily_change', 'AAA10Y_daily_change', 'DBAA_daily_change', 'BAA10Y_daily_change', 'BAMLH0A0HYM2_daily_change', 'BAMLH0A2HYB_daily_change', 'BAMLH0A3HYC_daily_change', 'BAMLHE00EHYIOAS_daily_change', 'T10Y2Y_daily_change', 'T10Y3M_daily_change', 'T5YIE_daily_change', 'DEXUSEU_daily_change', 'DEXCHUS_daily_change', 'DEXCAUS_daily_change', 'DEXMXUS_daily_change', 'VIXCLS_daily_change', 'GVZCLS_daily_change', 'Close_oil', 'oil_daily_changes']\n"
     ]
    }
   ],
   "source": [
    "# Obtén una lista con todos los nombres de las columnas en el DataFrame\n",
    "column_names = AllVar_df.columns.tolist()\n",
    "print(\"Nombres de columnas en AllVar_df:\", column_names)\n"
   ]
  },
  {
   "cell_type": "code",
   "execution_count": 30,
   "metadata": {},
   "outputs": [],
   "source": [
    "AllVar_df = AllVar_df.loc[fecha_inicio:]"
   ]
  },
  {
   "cell_type": "code",
   "execution_count": 31,
   "metadata": {},
   "outputs": [
    {
     "data": {
      "text/html": [
       "<div>\n",
       "<style scoped>\n",
       "    .dataframe tbody tr th:only-of-type {\n",
       "        vertical-align: middle;\n",
       "    }\n",
       "\n",
       "    .dataframe tbody tr th {\n",
       "        vertical-align: top;\n",
       "    }\n",
       "\n",
       "    .dataframe thead th {\n",
       "        text-align: right;\n",
       "    }\n",
       "</style>\n",
       "<table border=\"1\" class=\"dataframe\">\n",
       "  <thead>\n",
       "    <tr style=\"text-align: right;\">\n",
       "      <th></th>\n",
       "      <th>Open</th>\n",
       "      <th>High</th>\n",
       "      <th>Low</th>\n",
       "      <th>Close</th>\n",
       "      <th>Volume</th>\n",
       "      <th>DAAA</th>\n",
       "      <th>AAA10Y</th>\n",
       "      <th>DBAA</th>\n",
       "      <th>BAA10Y</th>\n",
       "      <th>BAMLH0A0HYM2</th>\n",
       "      <th>...</th>\n",
       "      <th>T10Y3M_daily_change</th>\n",
       "      <th>T5YIE_daily_change</th>\n",
       "      <th>DEXUSEU_daily_change</th>\n",
       "      <th>DEXCHUS_daily_change</th>\n",
       "      <th>DEXCAUS_daily_change</th>\n",
       "      <th>DEXMXUS_daily_change</th>\n",
       "      <th>VIXCLS_daily_change</th>\n",
       "      <th>GVZCLS_daily_change</th>\n",
       "      <th>Close_oil</th>\n",
       "      <th>oil_daily_changes</th>\n",
       "    </tr>\n",
       "    <tr>\n",
       "      <th>Date</th>\n",
       "      <th></th>\n",
       "      <th></th>\n",
       "      <th></th>\n",
       "      <th></th>\n",
       "      <th></th>\n",
       "      <th></th>\n",
       "      <th></th>\n",
       "      <th></th>\n",
       "      <th></th>\n",
       "      <th></th>\n",
       "      <th></th>\n",
       "      <th></th>\n",
       "      <th></th>\n",
       "      <th></th>\n",
       "      <th></th>\n",
       "      <th></th>\n",
       "      <th></th>\n",
       "      <th></th>\n",
       "      <th></th>\n",
       "      <th></th>\n",
       "      <th></th>\n",
       "    </tr>\n",
       "  </thead>\n",
       "  <tbody>\n",
       "    <tr>\n",
       "      <th>2014-04-30</th>\n",
       "      <td>1877.099976</td>\n",
       "      <td>1885.199951</td>\n",
       "      <td>1872.689941</td>\n",
       "      <td>1883.949951</td>\n",
       "      <td>3779230000</td>\n",
       "      <td>4.21</td>\n",
       "      <td>1.54</td>\n",
       "      <td>4.83</td>\n",
       "      <td>2.16</td>\n",
       "      <td>3.71</td>\n",
       "      <td>...</td>\n",
       "      <td>-0.05</td>\n",
       "      <td>0.01</td>\n",
       "      <td>0.0062</td>\n",
       "      <td>0.0013</td>\n",
       "      <td>-0.0007</td>\n",
       "      <td>-0.0320</td>\n",
       "      <td>-0.30</td>\n",
       "      <td>0.21</td>\n",
       "      <td>99.739998</td>\n",
       "      <td>-1.520538</td>\n",
       "    </tr>\n",
       "    <tr>\n",
       "      <th>2014-05-01</th>\n",
       "      <td>1884.390015</td>\n",
       "      <td>1888.589966</td>\n",
       "      <td>1878.040039</td>\n",
       "      <td>1883.680054</td>\n",
       "      <td>3416740000</td>\n",
       "      <td>4.16</td>\n",
       "      <td>1.53</td>\n",
       "      <td>4.77</td>\n",
       "      <td>2.14</td>\n",
       "      <td>3.75</td>\n",
       "      <td>...</td>\n",
       "      <td>-0.04</td>\n",
       "      <td>0.00</td>\n",
       "      <td>-0.0003</td>\n",
       "      <td>0.0000</td>\n",
       "      <td>0.0009</td>\n",
       "      <td>-0.0310</td>\n",
       "      <td>-0.16</td>\n",
       "      <td>-0.37</td>\n",
       "      <td>99.419998</td>\n",
       "      <td>-0.320834</td>\n",
       "    </tr>\n",
       "    <tr>\n",
       "      <th>2014-05-02</th>\n",
       "      <td>1885.300049</td>\n",
       "      <td>1891.329956</td>\n",
       "      <td>1878.500000</td>\n",
       "      <td>1881.140015</td>\n",
       "      <td>3159560000</td>\n",
       "      <td>4.12</td>\n",
       "      <td>1.52</td>\n",
       "      <td>4.74</td>\n",
       "      <td>2.14</td>\n",
       "      <td>3.73</td>\n",
       "      <td>...</td>\n",
       "      <td>-0.02</td>\n",
       "      <td>-0.01</td>\n",
       "      <td>-0.0003</td>\n",
       "      <td>0.0000</td>\n",
       "      <td>0.0008</td>\n",
       "      <td>-0.0540</td>\n",
       "      <td>-0.34</td>\n",
       "      <td>-0.30</td>\n",
       "      <td>99.760002</td>\n",
       "      <td>0.341988</td>\n",
       "    </tr>\n",
       "    <tr>\n",
       "      <th>2014-05-05</th>\n",
       "      <td>1879.449951</td>\n",
       "      <td>1885.510010</td>\n",
       "      <td>1866.770020</td>\n",
       "      <td>1884.660034</td>\n",
       "      <td>2733730000</td>\n",
       "      <td>4.16</td>\n",
       "      <td>1.53</td>\n",
       "      <td>4.78</td>\n",
       "      <td>2.15</td>\n",
       "      <td>3.74</td>\n",
       "      <td>...</td>\n",
       "      <td>0.02</td>\n",
       "      <td>-0.03</td>\n",
       "      <td>0.0020</td>\n",
       "      <td>-0.0138</td>\n",
       "      <td>-0.0018</td>\n",
       "      <td>0.0095</td>\n",
       "      <td>0.38</td>\n",
       "      <td>0.66</td>\n",
       "      <td>99.480003</td>\n",
       "      <td>-0.280672</td>\n",
       "    </tr>\n",
       "    <tr>\n",
       "      <th>2014-05-06</th>\n",
       "      <td>1883.689941</td>\n",
       "      <td>1883.689941</td>\n",
       "      <td>1867.719971</td>\n",
       "      <td>1867.719971</td>\n",
       "      <td>3327260000</td>\n",
       "      <td>4.13</td>\n",
       "      <td>1.52</td>\n",
       "      <td>4.76</td>\n",
       "      <td>2.15</td>\n",
       "      <td>3.72</td>\n",
       "      <td>...</td>\n",
       "      <td>-0.02</td>\n",
       "      <td>-0.01</td>\n",
       "      <td>0.0040</td>\n",
       "      <td>-0.0198</td>\n",
       "      <td>-0.0065</td>\n",
       "      <td>-0.0055</td>\n",
       "      <td>0.51</td>\n",
       "      <td>-0.49</td>\n",
       "      <td>99.500000</td>\n",
       "      <td>0.020101</td>\n",
       "    </tr>\n",
       "  </tbody>\n",
       "</table>\n",
       "<p>5 rows × 41 columns</p>\n",
       "</div>"
      ],
      "text/plain": [
       "                   Open         High          Low        Close      Volume  \\\n",
       "Date                                                                         \n",
       "2014-04-30  1877.099976  1885.199951  1872.689941  1883.949951  3779230000   \n",
       "2014-05-01  1884.390015  1888.589966  1878.040039  1883.680054  3416740000   \n",
       "2014-05-02  1885.300049  1891.329956  1878.500000  1881.140015  3159560000   \n",
       "2014-05-05  1879.449951  1885.510010  1866.770020  1884.660034  2733730000   \n",
       "2014-05-06  1883.689941  1883.689941  1867.719971  1867.719971  3327260000   \n",
       "\n",
       "            DAAA  AAA10Y  DBAA  BAA10Y  BAMLH0A0HYM2  ...  \\\n",
       "Date                                                  ...   \n",
       "2014-04-30  4.21    1.54  4.83    2.16          3.71  ...   \n",
       "2014-05-01  4.16    1.53  4.77    2.14          3.75  ...   \n",
       "2014-05-02  4.12    1.52  4.74    2.14          3.73  ...   \n",
       "2014-05-05  4.16    1.53  4.78    2.15          3.74  ...   \n",
       "2014-05-06  4.13    1.52  4.76    2.15          3.72  ...   \n",
       "\n",
       "            T10Y3M_daily_change  T5YIE_daily_change  DEXUSEU_daily_change  \\\n",
       "Date                                                                        \n",
       "2014-04-30                -0.05                0.01                0.0062   \n",
       "2014-05-01                -0.04                0.00               -0.0003   \n",
       "2014-05-02                -0.02               -0.01               -0.0003   \n",
       "2014-05-05                 0.02               -0.03                0.0020   \n",
       "2014-05-06                -0.02               -0.01                0.0040   \n",
       "\n",
       "            DEXCHUS_daily_change  DEXCAUS_daily_change  DEXMXUS_daily_change  \\\n",
       "Date                                                                           \n",
       "2014-04-30                0.0013               -0.0007               -0.0320   \n",
       "2014-05-01                0.0000                0.0009               -0.0310   \n",
       "2014-05-02                0.0000                0.0008               -0.0540   \n",
       "2014-05-05               -0.0138               -0.0018                0.0095   \n",
       "2014-05-06               -0.0198               -0.0065               -0.0055   \n",
       "\n",
       "            VIXCLS_daily_change  GVZCLS_daily_change  Close_oil  \\\n",
       "Date                                                              \n",
       "2014-04-30                -0.30                 0.21  99.739998   \n",
       "2014-05-01                -0.16                -0.37  99.419998   \n",
       "2014-05-02                -0.34                -0.30  99.760002   \n",
       "2014-05-05                 0.38                 0.66  99.480003   \n",
       "2014-05-06                 0.51                -0.49  99.500000   \n",
       "\n",
       "            oil_daily_changes  \n",
       "Date                           \n",
       "2014-04-30          -1.520538  \n",
       "2014-05-01          -0.320834  \n",
       "2014-05-02           0.341988  \n",
       "2014-05-05          -0.280672  \n",
       "2014-05-06           0.020101  \n",
       "\n",
       "[5 rows x 41 columns]"
      ]
     },
     "execution_count": 31,
     "metadata": {},
     "output_type": "execute_result"
    }
   ],
   "source": [
    "AllVar_df.head()"
   ]
  },
  {
   "cell_type": "code",
   "execution_count": 32,
   "metadata": {},
   "outputs": [],
   "source": [
    "#Seleccionar las columnas que se van a utilizar\n",
    "selected_columns = ['VIXCLS', 'GVZCLS', 'DAAA_daily_change', 'AAA10Y_daily_change', 'DBAA_daily_change', 'BAA10Y_daily_change', 'BAMLH0A0HYM2_daily_change', 'BAMLH0A2HYB_daily_change', 'BAMLH0A3HYC_daily_change', 'BAMLHE00EHYIOAS_daily_change', 'T10Y2Y_daily_change', 'T10Y3M_daily_change', 'T5YIE_daily_change', 'DEXUSEU_daily_change', 'DEXCHUS_daily_change', 'DEXCAUS_daily_change', 'DEXMXUS_daily_change', 'oil_daily_changes']\n",
    "\n",
    "# Ahora crea un nuevo DataFrame con solo las columnas seleccionadas\n",
    "X_arimax1 = AllVar_df[selected_columns]\n",
    "\n",
    "y_arimax1= AllVar_df['Close']"
   ]
  },
  {
   "cell_type": "code",
   "execution_count": 33,
   "metadata": {},
   "outputs": [],
   "source": [
    "# Se convierte el índice a tipo datetime\n",
    "X_arimax1.index = pd.to_datetime(X_arimax1.index)\n",
    "# Asegurar que el índice esté en formato de fecha y ordenado\n",
    "X_arimax1.sort_index(inplace=True)"
   ]
  },
  {
   "cell_type": "code",
   "execution_count": 34,
   "metadata": {},
   "outputs": [],
   "source": [
    "# Se convierte el índice a tipo datetime\n",
    "y_arimax1.index = pd.to_datetime(X_arimax1.index)\n",
    "# Asegurar que el índice esté en formato de fecha y ordenado\n",
    "y_arimax1.sort_index(inplace=True)"
   ]
  },
  {
   "cell_type": "code",
   "execution_count": 35,
   "metadata": {},
   "outputs": [],
   "source": [
    "# División de datos en entrenamiento y prueba (80% entrenamiento, 20% prueba)\n",
    "train_size_arimax1 = int(len(AllVar_df) * (1-test_size_Control))\n",
    "y_train_arimax1 = y_arimax1.iloc[:train_size_arimax1]\n",
    "X_train_arimax1 = X_arimax1.iloc[:train_size_arimax1]\n",
    "\n",
    "y_test_arimax1 = y_arimax1.iloc[train_size_arimax1:]\n",
    "X_test_arimax1 = X_arimax1 .iloc[train_size_arimax1:]\n"
   ]
  },
  {
   "cell_type": "code",
   "execution_count": 36,
   "metadata": {},
   "outputs": [
    {
     "name": "stdout",
     "output_type": "stream",
     "text": [
      "Performing stepwise search to minimize aic\n",
      " ARIMA(2,1,2)(0,0,0)[0] intercept   : AIC=16325.535, Time=3.74 sec\n",
      " ARIMA(0,1,0)(0,0,0)[0] intercept   : AIC=16352.092, Time=0.26 sec\n",
      " ARIMA(1,1,0)(0,0,0)[0] intercept   : AIC=16354.036, Time=0.24 sec\n",
      " ARIMA(0,1,1)(0,0,0)[0] intercept   : AIC=16354.043, Time=0.60 sec\n",
      " ARIMA(0,1,0)(0,0,0)[0]             : AIC=16360.210, Time=1.15 sec\n",
      " ARIMA(1,1,2)(0,0,0)[0] intercept   : AIC=16340.164, Time=3.38 sec\n",
      " ARIMA(2,1,1)(0,0,0)[0] intercept   : AIC=16344.046, Time=2.55 sec\n",
      " ARIMA(3,1,2)(0,0,0)[0] intercept   : AIC=16309.628, Time=3.40 sec\n",
      " ARIMA(3,1,1)(0,0,0)[0] intercept   : AIC=16321.015, Time=3.00 sec\n",
      " ARIMA(4,1,2)(0,0,0)[0] intercept   : AIC=16314.742, Time=4.39 sec\n",
      " ARIMA(3,1,3)(0,0,0)[0] intercept   : AIC=16309.352, Time=3.89 sec\n",
      " ARIMA(2,1,3)(0,0,0)[0] intercept   : AIC=16312.428, Time=4.27 sec\n",
      " ARIMA(4,1,3)(0,0,0)[0] intercept   : AIC=16313.400, Time=4.49 sec\n",
      " ARIMA(3,1,4)(0,0,0)[0] intercept   : AIC=16315.959, Time=4.48 sec\n",
      " ARIMA(2,1,4)(0,0,0)[0] intercept   : AIC=16319.714, Time=4.23 sec\n",
      " ARIMA(4,1,4)(0,0,0)[0] intercept   : AIC=16299.062, Time=4.97 sec\n",
      " ARIMA(5,1,4)(0,0,0)[0] intercept   : AIC=16304.903, Time=4.82 sec\n",
      " ARIMA(4,1,5)(0,0,0)[0] intercept   : AIC=16306.052, Time=5.24 sec\n",
      " ARIMA(3,1,5)(0,0,0)[0] intercept   : AIC=16304.949, Time=4.54 sec\n",
      " ARIMA(5,1,3)(0,0,0)[0] intercept   : AIC=16306.710, Time=4.30 sec\n",
      " ARIMA(5,1,5)(0,0,0)[0] intercept   : AIC=16303.722, Time=5.34 sec\n",
      " ARIMA(4,1,4)(0,0,0)[0]             : AIC=16308.400, Time=4.32 sec\n",
      "\n",
      "Best model:  ARIMA(4,1,4)(0,0,0)[0] intercept\n",
      "Total fit time: 77.620 seconds\n",
      "                               SARIMAX Results                                \n",
      "==============================================================================\n",
      "Dep. Variable:                      y   No. Observations:                 1873\n",
      "Model:               SARIMAX(4, 1, 4)   Log Likelihood               -8121.531\n",
      "Date:                Tue, 07 May 2024   AIC                          16299.062\n",
      "Time:                        20:39:29   BIC                          16454.036\n",
      "Sample:                             0   HQIC                         16356.156\n",
      "                               - 1873                                         \n",
      "Covariance Type:                  opg                                         \n",
      "================================================================================================\n",
      "                                   coef    std err          z      P>|z|      [0.025      0.975]\n",
      "------------------------------------------------------------------------------------------------\n",
      "intercept                        3.0411      0.981      3.100      0.002       1.119       4.964\n",
      "VIXCLS                         -11.4501      0.126    -90.977      0.000     -11.697     -11.203\n",
      "GVZCLS                          -1.2361      0.367     -3.371      0.001      -1.955      -0.517\n",
      "DAAA_daily_change               12.3850      7.986      1.551      0.121      -3.267      28.037\n",
      "AAA10Y_daily_change              1.7276      7.418      0.233      0.816     -12.812      16.267\n",
      "DBAA_daily_change               -7.3119      8.174     -0.895      0.371     -23.332       8.709\n",
      "BAA10Y_daily_change            -17.9692     10.040     -1.790      0.074     -37.648       1.710\n",
      "BAMLH0A0HYM2_daily_change      -34.7400     21.676     -1.603      0.109     -77.225       7.745\n",
      "BAMLH0A2HYB_daily_change       -19.7030     14.912     -1.321      0.186     -48.929       9.523\n",
      "BAMLH0A3HYC_daily_change         0.5653      5.677      0.100      0.921     -10.561      11.692\n",
      "BAMLHE00EHYIOAS_daily_change    19.8734      5.517      3.602      0.000       9.059      30.687\n",
      "T10Y2Y_daily_change             31.4326     11.184      2.810      0.005       9.512      53.353\n",
      "T10Y3M_daily_change            -36.4487     13.608     -2.679      0.007     -63.119      -9.778\n",
      "T5YIE_daily_change             -15.6197      7.416     -2.106      0.035     -30.155      -1.085\n",
      "DEXUSEU_daily_change           143.6456     59.542      2.413      0.016      26.946     260.346\n",
      "DEXCHUS_daily_change            42.0680     21.375      1.968      0.049       0.175      83.961\n",
      "DEXCAUS_daily_change           -67.7294     65.565     -1.033      0.302    -196.235      60.776\n",
      "DEXMXUS_daily_change            -2.1560      2.138     -1.009      0.313      -6.346       2.034\n",
      "oil_daily_changes               -0.1102      0.025     -4.362      0.000      -0.160      -0.061\n",
      "ar.L1                           -0.5093      0.043    -11.760      0.000      -0.594      -0.424\n",
      "ar.L2                            0.5559      0.055     10.120      0.000       0.448       0.664\n",
      "ar.L3                           -0.3094      0.044     -6.997      0.000      -0.396      -0.223\n",
      "ar.L4                           -0.7914      0.040    -19.650      0.000      -0.870      -0.712\n",
      "ma.L1                            0.5480      0.050     10.897      0.000       0.449       0.647\n",
      "ma.L2                           -0.4986      0.064     -7.821      0.000      -0.624      -0.374\n",
      "ma.L3                            0.2479      0.057      4.344      0.000       0.136       0.360\n",
      "ma.L4                            0.6684      0.051     13.169      0.000       0.569       0.768\n",
      "sigma2                         348.0483      5.987     58.130      0.000     336.313     359.783\n",
      "===================================================================================\n",
      "Ljung-Box (L1) (Q):                   2.04   Jarque-Bera (JB):             12651.10\n",
      "Prob(Q):                              0.15   Prob(JB):                         0.00\n",
      "Heteroskedasticity (H):               5.40   Skew:                            -0.29\n",
      "Prob(H) (two-sided):                  0.00   Kurtosis:                        15.72\n",
      "===================================================================================\n",
      "\n",
      "Warnings:\n",
      "[1] Covariance matrix calculated using the outer product of gradients (complex-step).\n",
      "[2] Covariance matrix is singular or near-singular, with condition number 1.37e+18. Standard errors may be unstable.\n"
     ]
    }
   ],
   "source": [
    "# Ajustar el modelo arimax1\n",
    "arimax1 = auto_arima(y_train_arimax1, X_train_arimax1, seasonal=False,\n",
    "                     trace=True, error_action='ignore',\n",
    "                     suppress_warnings=True, stepwise=True,\n",
    "                     information_criterion='aic')  # Utilizando AIC para la selección del modelo\n",
    "\n",
    "# Ver el resumen del modelo arimax1\n",
    "print(arimax1.summary())\n"
   ]
  },
  {
   "cell_type": "code",
   "execution_count": null,
   "metadata": {},
   "outputs": [],
   "source": [
    "#Seleccionar solo las variables significativas\n",
    "selected_columns = ['VIXCLS', 'GVZCLS','BAMLH0A0HYM2_daily_change','BAMLHE00EHYIOAS_daily_change', 'T5YIE_daily_change', 'T10Y2Y_daily_change','T5YIE_daily_change','DEXUSEU_daily_change','DEXCHUS_daily_change','oil_daily_changes']\n",
    "\n",
    "# Ahora crea un nuevo DataFrame con solo las columnas seleccionadas\n",
    "X_arimax1_new = AllVar_df[selected_columns]\n",
    "\n",
    "y_arimax1_new= AllVar_df['Close']"
   ]
  },
  {
   "cell_type": "code",
   "execution_count": null,
   "metadata": {},
   "outputs": [],
   "source": [
    "# Se convierte el índice a tipo datetime\n",
    "X_arimax1_new.index = pd.to_datetime(X_arimax1.index)\n",
    "# Asegurar que el índice esté en formato de fecha y ordenado\n",
    "X_arimax1_new.sort_index(inplace=True)"
   ]
  },
  {
   "cell_type": "code",
   "execution_count": null,
   "metadata": {},
   "outputs": [],
   "source": [
    "# Se convierte el índice a tipo datetime\n",
    "y_arimax1_new.index = pd.to_datetime(X_arimax1.index)\n",
    "# Asegurar que el índice esté en formato de fecha y ordenado\n",
    "y_arimax1_new.sort_index(inplace=True)"
   ]
  },
  {
   "cell_type": "code",
   "execution_count": null,
   "metadata": {},
   "outputs": [],
   "source": [
    "# División de datos en entrenamiento y prueba (80% entrenamiento, 20% prueba)\n",
    "train_size_arimax1_new = int(len(AllVar_df) * (1-test_size_Control))\n",
    "y_train_arimax1_new = y_arimax1_new.iloc[:train_size_arimax1_new]\n",
    "X_train_arimax1_new = X_arimax1_new.iloc[:train_size_arimax1_new]\n",
    "\n",
    "y_test_arimax1_new = y_arimax1_new.iloc[train_size_arimax1_new:]\n",
    "X_test_arimax1_new = X_arimax1_new.iloc[train_size_arimax1_new:]\n"
   ]
  },
  {
   "cell_type": "code",
   "execution_count": null,
   "metadata": {},
   "outputs": [],
   "source": [
    "# Ajustar el modelo arimax1\n",
    "arimax1_new = auto_arima(y_train_arimax1_new, X_train_arimax1_new, seasonal=False,\n",
    "                     trace=True, error_action='ignore',\n",
    "                     suppress_warnings=True, stepwise=True,\n",
    "                     information_criterion='aic')  # Utilizando AIC para la selección del modelo\n",
    "\n",
    "# Ver el resumen del modelo arimax1\n",
    "print(arimax1_new.summary())\n"
   ]
  },
  {
   "cell_type": "code",
   "execution_count": null,
   "metadata": {},
   "outputs": [],
   "source": [
    "# Asegúrate de que el número de períodos de predicción coincide con la longitud del conjunto de prueba\n",
    "predictions_arimax1_new = arimax1_new.predict(n_periods=len(y_test_arimax1_new), X=X_test_arimax1_new)\n"
   ]
  },
  {
   "cell_type": "code",
   "execution_count": null,
   "metadata": {},
   "outputs": [],
   "source": [
    "# Verificar si hay índices duplicados\n",
    "print(\"Índices duplicados en X_test:\", X_test_arimax1_new.index.duplicated().any())\n",
    "print(\"Índices duplicados en y_test:\", y_test_arimax1_new.index.duplicated().any())\n",
    "\n",
    "# Asegúrate de que los índices estén alineados\n",
    "print(\"Índices alineados:\", (X_test_arimax1_new.index == y_test_arimax1_new.index).all())\n"
   ]
  },
  {
   "cell_type": "code",
   "execution_count": null,
   "metadata": {},
   "outputs": [],
   "source": [
    "# Verificar los tipos de datos y el tamaño de los conjuntos\n",
    "print(\"Tipos de datos en X_test_arimax1_new:\", X_test_arimax1_new.dtypes)\n",
    "print(\"Tamaño de X_test_arimax1_new:\", len(X_test_arimax1_new))\n",
    "\n",
    "print(\"Tipo de datos en y_test_arimax1_new:\", y_test_arimax1_new.dtype)\n",
    "print(\"Tamaño de y_test_arimax1_new:\", len(y_test_arimax1_new))\n",
    "\n",
    "# Asumiendo que predictions_arimax1_new es un array NumPy\n",
    "print(\"Tipo de datos en predictions_arimax1_new:\", predictions_arimax1_new.dtype)\n",
    "print(\"Tamaño de predictions_arimax1_new:\", len(predictions_arimax1_new))\n"
   ]
  },
  {
   "cell_type": "code",
   "execution_count": null,
   "metadata": {},
   "outputs": [],
   "source": [
    "X_test_arimax1_new.head()"
   ]
  },
  {
   "cell_type": "code",
   "execution_count": null,
   "metadata": {},
   "outputs": [],
   "source": [
    "y_test_arimax1_new_df=y_test_arimax1_new.to_frame()"
   ]
  },
  {
   "cell_type": "code",
   "execution_count": null,
   "metadata": {},
   "outputs": [],
   "source": [
    "y_test_arimax1_new_df.head()"
   ]
  },
  {
   "cell_type": "code",
   "execution_count": null,
   "metadata": {},
   "outputs": [],
   "source": [
    "predictions_arimax1_new_df=predictions_arimax1_new.to_frame()"
   ]
  },
  {
   "cell_type": "code",
   "execution_count": null,
   "metadata": {},
   "outputs": [],
   "source": [
    "predictions_arimax1_new_df.head()"
   ]
  },
  {
   "cell_type": "code",
   "execution_count": null,
   "metadata": {},
   "outputs": [],
   "source": [
    "# Cambiar directamente el nombre de la primera columna\n",
    "predictions_arimax1_new_df.columns = ['Prediccion'] + predictions_arimax1_new_df.columns[1:].tolist()\n",
    "\n",
    "# Verificar los cambios\n",
    "print(predictions_arimax1_new_df.head())\n"
   ]
  },
  {
   "cell_type": "code",
   "execution_count": null,
   "metadata": {},
   "outputs": [],
   "source": [
    "# Verificar el tamaño de ambos DataFrames para asegurar que coinciden\n",
    "print(\"Tamaño de predictions_arimax1_new_df:\", len(predictions_arimax1_new_df))\n",
    "print(\"Tamaño de y_test_arimax1_new:\", len(y_test_arimax1_new_df))\n"
   ]
  },
  {
   "cell_type": "code",
   "execution_count": null,
   "metadata": {},
   "outputs": [],
   "source": [
    "# Asignar el índice de fechas de y_test_arimax1_new al DataFrame de predicciones\n",
    "predictions_arimax1_new_df.index = y_test_arimax1_new.index\n",
    "\n",
    "# Verificar los cambios mostrando las primeras filas del DataFrame actualizado\n",
    "print(predictions_arimax1_new_df.head())\n"
   ]
  },
  {
   "cell_type": "code",
   "execution_count": null,
   "metadata": {},
   "outputs": [],
   "source": [
    "# Imprimir el DataFrame completo o una muestra para verificar el índice y los datos\n",
    "print(predictions_arimax1_new_df)\n"
   ]
  },
  {
   "cell_type": "code",
   "execution_count": null,
   "metadata": {},
   "outputs": [],
   "source": [
    "# Convertir índices a datetime si aún no están convertidos\n",
    "predictions_arimax1_new_df.index = pd.to_datetime(predictions_arimax1_new_df.index)\n",
    "y_test_arimax1_new_df.index = pd.to_datetime(y_test_arimax1_new_df.index)\n"
   ]
  },
  {
   "cell_type": "code",
   "execution_count": null,
   "metadata": {},
   "outputs": [],
   "source": [
    "combined_df = pd.concat([predictions_arimax1_new_df, y_test_arimax1_new_df], axis=1)\n"
   ]
  },
  {
   "cell_type": "code",
   "execution_count": null,
   "metadata": {},
   "outputs": [],
   "source": [
    "nombre_archivo = f'arimax1_{fecha_inicio}_testsize{test_size_Control}.csv'\n",
    "combined_df.to_csv(nombre_archivo, index=True)"
   ]
  },
  {
   "cell_type": "code",
   "execution_count": null,
   "metadata": {},
   "outputs": [],
   "source": [
    "# Configurar el tamaño de la figura\n",
    "plt.figure(figsize=(12, 6))\n",
    "\n",
    "# Graficar las predicciones, asegurándote de usar el nombre correcto de la columna\n",
    "plt.plot(predictions_arimax1_new_df.index, predictions_arimax1_new_df['Prediccion'], label='Predicciones', color='blue')\n",
    "\n",
    "# Graficar los valores reales\n",
    "plt.plot(y_test_arimax1_new_df.index, y_test_arimax1_new_df['Close'], label='Valores Reales', color='red')\n",
    "\n",
    "# Añadir título y etiquetas\n",
    "plt.title('Comparación de Predicciones y Valores Reales')\n",
    "plt.xlabel('Fecha')\n",
    "plt.ylabel('Valor')\n",
    "plt.legend()\n",
    "\n",
    "# Añadir cuadrícula\n",
    "plt.grid(True)\n",
    "\n",
    "# Mostrar el gráfico\n",
    "plt.show()\n"
   ]
  },
  {
   "cell_type": "code",
   "execution_count": null,
   "metadata": {},
   "outputs": [],
   "source": [
    "sp500_ARIMA_DR= sp500_ARIMA.copy()\n",
    "sp500_ARIMA_DR['Retornos_Diarios'] = sp500_ARIMA_DR['Close'].pct_change() * 100  # Multiplicado por 100 para obtener el porcentaje\n",
    "\n",
    "# Para ver los primeros 5 retornos\n",
    "print(sp500_ARIMA_DR['Retornos_Diarios'].head())\n",
    "\n",
    "missing_values = sp500_ARIMA_DR.isnull().sum()\n",
    "print(missing_values)\n"
   ]
  },
  {
   "cell_type": "code",
   "execution_count": null,
   "metadata": {},
   "outputs": [],
   "source": [
    "# Eliminar filas que contengan valores nulos\n",
    "sp500_ARIMA_DR_cleaned = sp500_ARIMA_DR.dropna()\n",
    "\n",
    "# Verifica de nuevo si hay valores nulos\n",
    "missing_values_cleaned = sp500_ARIMA_DR_cleaned.isnull().sum()\n",
    "print(missing_values_cleaned)\n"
   ]
  },
  {
   "cell_type": "code",
   "execution_count": null,
   "metadata": {},
   "outputs": [],
   "source": [
    "# Divide los datos en conjuntos de entrenamiento y prueba (por ejemplo, 80% train, 20% test)\n",
    "train_size_DR = int(len(sp500_ARIMA_DR_cleaned) * (1-test_size_Control))\n",
    "train_data_DR = sp500_ARIMA_DR_cleaned['Retornos_Diarios'][:train_size_DR]\n",
    "test_data_DR = sp500_ARIMA_DR_cleaned['Retornos_Diarios'][train_size_DR:]"
   ]
  },
  {
   "cell_type": "code",
   "execution_count": null,
   "metadata": {},
   "outputs": [],
   "source": [
    "import pmdarima as pm\n",
    "# Entrena el modelo ARIMA en el conjunto de entrenamiento\n",
    "model_DR = pm.auto_arima(train_data_DR, seasonal=False, trace=True,\n",
    "                      error_action='ignore', suppress_warnings=True,\n",
    "                      stepwise=True)\n",
    "\n",
    "# Guardar el modelo en un archivo binario\n",
    "with open('model_arima_DR.pkl', 'wb') as pkl:\n",
    "    pickle.dump(model_DR, pkl)\n"
   ]
  },
  {
   "cell_type": "code",
   "execution_count": null,
   "metadata": {},
   "outputs": [],
   "source": [
    "# Hacer predicciones para el conjunto de prueba\n",
    "predictions_DR = model_DR.predict(n_periods=len(test_data_DR))\n"
   ]
  },
  {
   "cell_type": "code",
   "execution_count": null,
   "metadata": {},
   "outputs": [],
   "source": [
    "# Calcula el MSE y el RMSE\n",
    "mse = mean_squared_error(test_data_DR, predictions_DR)\n",
    "rmse = np.sqrt(mse)\n",
    "\n",
    "print(f\"MSE: {mse}\")\n",
    "print(f\"RMSE: {rmse}\")\n"
   ]
  },
  {
   "cell_type": "code",
   "execution_count": null,
   "metadata": {},
   "outputs": [],
   "source": [
    "# Grafica los valores reales contra las predicciones\n",
    "plt.figure(figsize=(10, 5))\n",
    "#plt.plot(train_data_DR.index, train_data_DR, color='blue', label='Datos de Entrenamiento')\n",
    "plt.plot(test_data_DR.index, test_data_DR, color='orange', label='Valor Real')\n",
    "plt.plot(test_data_DR.index, predictions_DR, color='red', linestyle='--', label='Predicciones')\n",
    "plt.title('Comparación de Datos Reales y Predicciones ARIMA')\n",
    "plt.xlabel('Fecha')\n",
    "plt.ylabel('Retornos Diarios')\n",
    "plt.legend()\n",
    "plt.show()\n"
   ]
  },
  {
   "cell_type": "markdown",
   "metadata": {},
   "source": [
    "PENDIENTE PROFESOR??????????????????????????????????"
   ]
  },
  {
   "cell_type": "code",
   "execution_count": null,
   "metadata": {},
   "outputs": [],
   "source": [
    "# Asumiendo que sp500_ARIMA es tu DataFrame y ya está definido\n",
    "\n",
    "# Dividir los datos en conjuntos de entrenamiento y prueba\n",
    "train_size_arima2 = int(len(sp500_ARIMA) * (1-test_size_Control))\n",
    "train_arima2, test_arima2 = sp500_ARIMA['Close'][:train_size_arima2], sp500_ARIMA['Close'][train_size_arima2:]\n",
    "\n",
    "# Ajustar el modelo AutoARIMA\n",
    "model_returns_arima2 = auto_arima(train_arima2, seasonal=False, trace=True,\n",
    "                                  error_action='ignore', suppress_warnings=True,\n",
    "                                  stepwise=True)\n",
    "\n",
    "# Guardar el modelo\n",
    "pickle.dump(model_returns_arima2, open('ARIMA2_Close_best_model_returns.pkl', 'wb'))\n",
    "print(\"Mejor modelo ARIMA2 guardado:\")\n",
    "print(model_returns_arima2.summary())\n",
    "\n",
    "# Actualizar el modelo y realizar predicciones en el conjunto de prueba\n",
    "predicted_values_arima2 = []  # Lista para almacenar las predicciones\n",
    "for new_val in test_arima2:\n",
    "    model_arima2 = pickle.load(open('ARIMA2_Close_best_model_returns.pkl', 'rb'))  # Cargar el modelo\n",
    "    model_arima2.update(new_val)  # Actualizar el modelo con el último valor real\n",
    "    pred_arima2 = model_arima2.predict(n_periods=1)[0]  # Realizar la predicción para el próximo día\n",
    "    predicted_values_arima2.append(pred_arima2)  # Almacenar la predicción\n",
    "\n",
    "# Convertir la lista de predicciones a un array para cálculo de errores\n",
    "predicted_values_array_arima2 = np.array(predicted_values_arima2)\n",
    "\n",
    "# Evaluar el rendimiento del modelo en el conjunto de prueba\n",
    "mse_test_arima2 = mean_squared_error(test_arima2, predicted_values_array_arima2)\n",
    "rmse_test_arima2 = np.sqrt(mse_test_arima2)\n",
    "mae_test_arima2 = mean_absolute_error(test_arima2, predicted_values_array_arima2)\n",
    "\n",
    "print(f'ARIMA2 Test - MSE: {mse_test_arima2}, RMSE: {rmse_test_arima2}, MAE: {mae_test_arima2}')\n",
    "\n",
    "# Crear y guardar DataFrames\n",
    "test_df_arima2 = pd.DataFrame({'Fecha': pd.to_datetime(sp500_ARIMA.index[train_size_arima2:]), 'Valor_Real': test_arima2, 'Prediccion': predicted_values_array_arima2})\n",
    "#test_df_arima2.to_csv('ARIMA2_test_vs_predicciones.csv', index=False)\n",
    "\n",
    "#valores_reales_df_arima2 = test_df_arima2[['Fecha', 'Valor_Real']]\n",
    "#valores_reales_df_arima2.to_csv('ARIMA2_valores_reales_test.csv', index=False)\n",
    "\n",
    "# Generar nombre de archivo con variables incluidas\n",
    "nombre_archivo_predicciones = f'ARIMA2_test_vs_predicciones_{fecha_inicio}_testsize{test_size_Control}.csv'\n",
    "\n",
    "# Guardar DataFrame de predicciones\n",
    "test_df_arima2.to_csv(nombre_archivo_predicciones, index=False)\n",
    "\n",
    "# Crear DataFrame solo con valores reales\n",
    "valores_reales_df_arima2 = test_df_arima2[['Fecha', 'Valor_Real']]"
   ]
  },
  {
   "cell_type": "code",
   "execution_count": null,
   "metadata": {},
   "outputs": [],
   "source": [
    "import matplotlib.pyplot as plt\n",
    "\n",
    "# Graficar los valores reales y las predicciones\n",
    "plt.figure(figsize=(10, 6))\n",
    "plt.plot(test_df_arima2['Fecha'], test_df_arima2['Valor_Real'], label='Valor Real', color='blue')\n",
    "plt.plot(test_df_arima2['Fecha'], test_df_arima2['Prediccion'], label='Predicción', color='red')\n",
    "plt.title('Valores Reales vs Predicciones en el Conjunto de Prueba (ARIMA)')\n",
    "plt.xlabel('Fecha')\n",
    "plt.ylabel('Valor')\n",
    "plt.legend()\n",
    "plt.grid(True)\n",
    "plt.xticks(rotation=45)\n",
    "plt.tight_layout()\n",
    "\n",
    "# Guardar la gráfica\n",
    "plt.savefig('ARIMA2_predicciones_vs_valores_reales.png')\n",
    "\n",
    "# Mostrar la gráfica\n",
    "plt.show()\n"
   ]
  }
 ],
 "metadata": {
  "kernelspec": {
   "display_name": "Python 3",
   "language": "python",
   "name": "python3"
  },
  "language_info": {
   "codemirror_mode": {
    "name": "ipython",
    "version": 3
   },
   "file_extension": ".py",
   "mimetype": "text/x-python",
   "name": "python",
   "nbconvert_exporter": "python",
   "pygments_lexer": "ipython3",
   "version": "3.12.1"
  }
 },
 "nbformat": 4,
 "nbformat_minor": 2
}
